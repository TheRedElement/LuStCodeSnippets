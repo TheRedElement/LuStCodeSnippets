{
 "cells": [
  {
   "cell_type": "code",
   "execution_count": 9,
   "id": "4ff4855a",
   "metadata": {},
   "outputs": [
    {
     "data": {
      "text/plain": [
       "<module 'LuStCodeSnippets_py.Astronomy.ObsLim' from '/home/lukas/github/LuStCodeSnippets/LuStCodeSnippets_py/Astronomy/ObsLim.py'>"
      ]
     },
     "execution_count": 9,
     "metadata": {},
     "output_type": "execute_result"
    }
   ],
   "source": [
    "from astropy.cosmology import FlatLambdaCDM\n",
    "import astropy.units as u\n",
    "import importlib\n",
    "import numpy as np\n",
    "\n",
    "from LuStCodeSnippets_py.Astronomy import ObsLim\n",
    "\n",
    "importlib.reload(ObsLim)"
   ]
  },
  {
   "cell_type": "code",
   "execution_count": 10,
   "id": "f3568a10",
   "metadata": {},
   "outputs": [
    {
     "name": "stdout",
     "output_type": "stream",
     "text": [
      "Observation Limit SNCC, DES-SN shallow:  [0.1654772  0.66229162]\n",
      "Observation Limit SNCC, DES-SN deep:     [0.24978182 0.96333899]\n",
      "Observation Limit SNIa, DES-SN shallow:  0.614042955158049\n",
      "Observation Limit SNIa, DES-SN deep:     0.8940907279610761\n"
     ]
    }
   ],
   "source": [
    "print(\"Observation Limit SNCC, DES-SN shallow: \", ObsLim.observation_limit(np.array([-16,-19.5])*u.mag, 23.5*u.mag, cosmo=FlatLambdaCDM(H0=70, Om0=0.3)).value)\n",
    "print(\"Observation Limit SNCC, DES-SN deep:    \", ObsLim.observation_limit(np.array([-16,-19.5])*u.mag, 24.5*u.mag, cosmo=FlatLambdaCDM(H0=70, Om0=0.3)).value)\n",
    "print(\"Observation Limit SNIa, DES-SN shallow: \", ObsLim.observation_limit(-19.3*u.mag, 23.5*u.mag, cosmo=FlatLambdaCDM(H0=70, Om0=0.3)).value)\n",
    "print(\"Observation Limit SNIa, DES-SN deep:    \", ObsLim.observation_limit(-19.3*u.mag, 24.5*u.mag, cosmo=FlatLambdaCDM(H0=70, Om0=0.3)).value)\n"
   ]
  }
 ],
 "metadata": {
  "kernelspec": {
   "display_name": "lustcodesnippets-py",
   "language": "python",
   "name": "python3"
  },
  "language_info": {
   "codemirror_mode": {
    "name": "ipython",
    "version": 3
   },
   "file_extension": ".py",
   "mimetype": "text/x-python",
   "name": "python",
   "nbconvert_exporter": "python",
   "pygments_lexer": "ipython3",
   "version": "3.11.13"
  }
 },
 "nbformat": 4,
 "nbformat_minor": 5
}
