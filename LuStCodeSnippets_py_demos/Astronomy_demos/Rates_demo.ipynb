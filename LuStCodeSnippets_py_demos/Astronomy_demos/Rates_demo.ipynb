{
 "cells": [
  {
   "cell_type": "code",
   "execution_count": null,
   "id": "2f82c746",
   "metadata": {},
   "outputs": [
    {
     "data": {
      "text/plain": [
       "np.float64(0.7)"
      ]
     },
     "execution_count": 7,
     "metadata": {},
     "output_type": "execute_result"
    }
   ],
   "source": [
    "from astropy.cosmology import FlatLambdaCDM\n",
    "import astropy.units as u\n",
    "import importlib\n",
    "import numpy as np\n",
    "import polars as pl\n",
    "\n",
    "from LuStCodeSnippets_py.Astronomy import Rates\n",
    "\n",
    "importlib.reload(Rates)\n",
    "\n",
    "cosmo = FlatLambdaCDM(H0=70, Om0=0.3)"
   ]
  },
  {
   "cell_type": "code",
   "execution_count": null,
   "id": "e8060516",
   "metadata": {},
   "outputs": [
    {
     "data": {
      "text/html": [
       "<div><style>\n",
       ".dataframe > thead > tr,\n",
       ".dataframe > tbody > tr {\n",
       "  text-align: right;\n",
       "  white-space: pre-wrap;\n",
       "}\n",
       "</style>\n",
       "<small>shape: (9, 11)</small><table border=\"1\" class=\"dataframe\"><thead><tr><th>setting</th><th>nobs</th><th>survey</th><th>rate</th><th>z_min</th><th>z_max</th><th>source</th><th>note</th><th>source_survey</th><th>fov_eff</th><th>dt</th></tr><tr><td>str</td><td>i64</td><td>str</td><td>object</td><td>f64</td><td>f64</td><td>str</td><td>str</td><td>str</td><td>object</td><td>object</td></tr></thead><tbody><tr><td>&quot;Grayling2023 sncc&quot;</td><td>119</td><td>&quot;DES-SN&quot;</td><td>2.4009999999999992e-05 1 / (yr Mpc3)</td><td>0.045</td><td>0.25</td><td>&quot;Pessi2025, Dahlen2012&quot;</td><td>&quot;&quot;</td><td>&quot;Smith2020&quot;</td><td>23.0 deg2</td><td>2.2916666666666665 yr</td></tr><tr><td>&quot;Grayling2023 snibc&quot;</td><td>50</td><td>&quot;DES-SN&quot;</td><td>4.34238e-06 1 / (yr Mpc3)</td><td>0.045</td><td>0.25</td><td>&quot;Pessi2025&quot;</td><td>&quot;(Ibc + Ib + Ic + Ic-BL) -&gt; Gra…</td><td>&quot;Smith2020&quot;</td><td>23.0 deg2</td><td>2.2916666666666665 yr</td></tr><tr><td>&quot;Grayling2023 snii&quot;</td><td>69</td><td>&quot;DES-SN&quot;</td><td>1.4748999999999997e-05 1 / (yr Mpc3)</td><td>0.045</td><td>0.25</td><td>&quot;Pessi2025&quot;</td><td>&quot;&quot;</td><td>&quot;Smith2020&quot;</td><td>23.0 deg2</td><td>2.2916666666666665 yr</td></tr><tr><td>&quot;Moeller2024 snia&quot;</td><td>2298</td><td>&quot;DES-SN&quot;</td><td>8.334899999999999e-06 1 / (yr Mpc3)</td><td>0.07</td><td>1.14</td><td>&quot;Frohmaier2019&quot;</td><td>&quot;&quot;</td><td>&quot;Smith2020&quot;</td><td>23.0 deg2</td><td>2.2916666666666665 yr</td></tr><tr><td>&quot;Moeller2024 snia&quot;</td><td>2298</td><td>&quot;DES-SN&quot;</td><td>1.3915999999999997e-05 1 / (yr Mpc3)</td><td>0.07</td><td>0.9</td><td>&quot;Perrett2012&quot;</td><td>&quot;z_max based on DES detection l…</td><td>&quot;Smith2020&quot;</td><td>23.0 deg2</td><td>2.2916666666666665 yr</td></tr><tr><td>&quot;Moeller2024 snia&quot;</td><td>2298</td><td>&quot;DES-SN (approx)&quot;</td><td>8.334899999999999e-06 1 / (yr Mpc3)</td><td>0.07</td><td>1.14</td><td>&quot;Frohmaier2019&quot;</td><td>&quot;fov_eff in degrees =&gt; approxim…</td><td>&quot;Smith2020&quot;</td><td>8.538149682454625 deg</td><td>2.2916666666666665 yr</td></tr><tr><td>&quot;PESS2025 sncc&quot;</td><td>173</td><td>&quot;ASSA-SN&quot;</td><td>2.4009999999999992e-05 1 / (yr Mpc3)</td><td>0.001</td><td>0.02</td><td>&quot;Pessi2025&quot;</td><td>&quot;used ceil(median redshift) as …</td><td>&quot;Pessi2025&quot;</td><td>55658.42049344808 deg2</td><td>3.5 yr</td></tr><tr><td>&quot;PESS2025 snibc&quot;</td><td>2</td><td>&quot;ASSA-SN&quot;</td><td>1.1318999999999998e-07 1 / (yr Mpc3)</td><td>0.001</td><td>0.02</td><td>&quot;Pessi2025&quot;</td><td>&quot;used ceil(median redshift) as …</td><td>&quot;Pessi2025&quot;</td><td>55658.42049344808 deg2</td><td>3.5 yr</td></tr><tr><td>&quot;PESS2025 snii&quot;</td><td>104</td><td>&quot;ASSA-SN&quot;</td><td>1.4748999999999997e-05 1 / (yr Mpc3)</td><td>0.001</td><td>0.02</td><td>&quot;Pessi2025&quot;</td><td>&quot;used ceil(median redshift) as …</td><td>&quot;Pessi2025&quot;</td><td>55658.42049344808 deg2</td><td>3.5 yr</td></tr></tbody></table></div>"
      ],
      "text/plain": [
       "shape: (9, 11)\n",
       "┌────────────┬──────┬────────────┬────────────┬───┬────────────┬───────────┬───────────┬───────────┐\n",
       "│ setting    ┆ nobs ┆ survey     ┆ rate       ┆ … ┆ note       ┆ source_su ┆ fov_eff   ┆ dt        │\n",
       "│ ---        ┆ ---  ┆ ---        ┆ ---        ┆   ┆ ---        ┆ rvey      ┆ ---       ┆ ---       │\n",
       "│ str        ┆ i64  ┆ str        ┆ object     ┆   ┆ str        ┆ ---       ┆ object    ┆ object    │\n",
       "│            ┆      ┆            ┆            ┆   ┆            ┆ str       ┆           ┆           │\n",
       "╞════════════╪══════╪════════════╪════════════╪═══╪════════════╪═══════════╪═══════════╪═══════════╡\n",
       "│ Grayling20 ┆ 119  ┆ DES-SN     ┆ 2.40099999 ┆ … ┆            ┆ Smith2020 ┆ 23.0 deg2 ┆ 2.2916666 │\n",
       "│ 23 sncc    ┆      ┆            ┆ 99999992e- ┆   ┆            ┆           ┆           ┆ 666666665 │\n",
       "│            ┆      ┆            ┆ 05 1 /     ┆   ┆            ┆           ┆           ┆ yr        │\n",
       "│            ┆      ┆            ┆ (yr…       ┆   ┆            ┆           ┆           ┆           │\n",
       "│ Grayling20 ┆ 50   ┆ DES-SN     ┆ 4.34238e-0 ┆ … ┆ (Ibc + Ib  ┆ Smith2020 ┆ 23.0 deg2 ┆ 2.2916666 │\n",
       "│ 23 snibc   ┆      ┆            ┆ 6 1 / (yr  ┆   ┆ + Ic +     ┆           ┆           ┆ 666666665 │\n",
       "│            ┆      ┆            ┆ Mpc3)      ┆   ┆ Ic-BL) ->  ┆           ┆           ┆ yr        │\n",
       "│            ┆      ┆            ┆            ┆   ┆ Gra…       ┆           ┆           ┆           │\n",
       "│ Grayling20 ┆ 69   ┆ DES-SN     ┆ 1.47489999 ┆ … ┆            ┆ Smith2020 ┆ 23.0 deg2 ┆ 2.2916666 │\n",
       "│ 23 snii    ┆      ┆            ┆ 99999997e- ┆   ┆            ┆           ┆           ┆ 666666665 │\n",
       "│            ┆      ┆            ┆ 05 1 /     ┆   ┆            ┆           ┆           ┆ yr        │\n",
       "│            ┆      ┆            ┆ (yr…       ┆   ┆            ┆           ┆           ┆           │\n",
       "│ Moeller202 ┆ 2298 ┆ DES-SN     ┆ 8.33489999 ┆ … ┆            ┆ Smith2020 ┆ 23.0 deg2 ┆ 2.2916666 │\n",
       "│ 4 snia     ┆      ┆            ┆ 9999999e-0 ┆   ┆            ┆           ┆           ┆ 666666665 │\n",
       "│            ┆      ┆            ┆ 6 1 / (yr  ┆   ┆            ┆           ┆           ┆ yr        │\n",
       "│            ┆      ┆            ┆ …          ┆   ┆            ┆           ┆           ┆           │\n",
       "│ Moeller202 ┆ 2298 ┆ DES-SN     ┆ 1.39159999 ┆ … ┆ z_max      ┆ Smith2020 ┆ 23.0 deg2 ┆ 2.2916666 │\n",
       "│ 4 snia     ┆      ┆            ┆ 99999997e- ┆   ┆ based on   ┆           ┆           ┆ 666666665 │\n",
       "│            ┆      ┆            ┆ 05 1 /     ┆   ┆ DES        ┆           ┆           ┆ yr        │\n",
       "│            ┆      ┆            ┆ (yr…       ┆   ┆ detection  ┆           ┆           ┆           │\n",
       "│            ┆      ┆            ┆            ┆   ┆ l…         ┆           ┆           ┆           │\n",
       "│ Moeller202 ┆ 2298 ┆ DES-SN     ┆ 8.33489999 ┆ … ┆ fov_eff in ┆ Smith2020 ┆ 8.5381496 ┆ 2.2916666 │\n",
       "│ 4 snia     ┆      ┆ (approx)   ┆ 9999999e-0 ┆   ┆ degrees => ┆           ┆ 82454625  ┆ 666666665 │\n",
       "│            ┆      ┆            ┆ 6 1 / (yr  ┆   ┆ approxim…  ┆           ┆ deg       ┆ yr        │\n",
       "│            ┆      ┆            ┆ …          ┆   ┆            ┆           ┆           ┆           │\n",
       "│ PESS2025   ┆ 173  ┆ ASSA-SN    ┆ 2.40099999 ┆ … ┆ used ceil( ┆ Pessi2025 ┆ 55658.420 ┆ 3.5 yr    │\n",
       "│ sncc       ┆      ┆            ┆ 99999992e- ┆   ┆ median     ┆           ┆ 49344808  ┆           │\n",
       "│            ┆      ┆            ┆ 05 1 /     ┆   ┆ redshift)  ┆           ┆ deg2      ┆           │\n",
       "│            ┆      ┆            ┆ (yr…       ┆   ┆ as …       ┆           ┆           ┆           │\n",
       "│ PESS2025   ┆ 2    ┆ ASSA-SN    ┆ 1.13189999 ┆ … ┆ used ceil( ┆ Pessi2025 ┆ 55658.420 ┆ 3.5 yr    │\n",
       "│ snibc      ┆      ┆            ┆ 99999998e- ┆   ┆ median     ┆           ┆ 49344808  ┆           │\n",
       "│            ┆      ┆            ┆ 07 1 /     ┆   ┆ redshift)  ┆           ┆ deg2      ┆           │\n",
       "│            ┆      ┆            ┆ (yr…       ┆   ┆ as …       ┆           ┆           ┆           │\n",
       "│ PESS2025   ┆ 104  ┆ ASSA-SN    ┆ 1.47489999 ┆ … ┆ used ceil( ┆ Pessi2025 ┆ 55658.420 ┆ 3.5 yr    │\n",
       "│ snii       ┆      ┆            ┆ 99999997e- ┆   ┆ median     ┆           ┆ 49344808  ┆           │\n",
       "│            ┆      ┆            ┆ 05 1 /     ┆   ┆ redshift)  ┆           ┆ deg2      ┆           │\n",
       "│            ┆      ┆            ┆ (yr…       ┆   ┆ as …       ┆           ┆           ┆           │\n",
       "└────────────┴──────┴────────────┴────────────┴───┴────────────┴───────────┴───────────┴───────────┘"
      ]
     },
     "execution_count": 5,
     "metadata": {},
     "output_type": "execute_result"
    }
   ],
   "source": [
    "#%%specifications\n",
    "\n",
    "df_rates = pl.from_dicts([\n",
    "    dict(setting=\"Grayling2023 sncc\",  nobs=50+69, survey=\"DES-SN\",             rate=7.0e-5   * cosmo.h**3/(u.Mpc**3 * u.yr), z_min=0.045, z_max=0.25, source=\"Pessi2025, Dahlen2012\", note=\"\"),\n",
    "    dict(setting=\"Grayling2023 snibc\", nobs=50,    survey=\"DES-SN\",             rate=1.266e-5 * cosmo.h**3/(u.Mpc**3 * u.yr), z_min=0.045, z_max=0.25, source=\"Pessi2025\",             note=\"(Ibc + Ib + Ic + Ic-BL) -> Grayling2023 includes all stripped envelope SNe in SNIbc\"),\n",
    "    dict(setting=\"Grayling2023 snii\",  nobs=69,    survey=\"DES-SN\",             rate=4.3e-5   * cosmo.h**3/(u.Mpc**3 * u.yr), z_min=0.045, z_max=0.25, source=\"Pessi2025\",             note=\"\"),\n",
    "    dict(setting=\"Moeller2024 snia\",   nobs=2298,  survey=\"DES-SN\",             rate=2.43e-5  * cosmo.h**3/(u.Mpc**3 * u.yr), z_min=0.07,  z_max=1.14, source=\"Frohmaier2019\",         note=\"\"),\n",
    "    dict(setting=\"Moeller2024 snia\",   nobs=2298,  survey=\"DES-SN\",             rate=(np.array([2.1,3.0,3.5,3.6,4.8,5.5,5.9]) * 1e-5).mean() * cosmo.h**3/(u.Mpc**3 * u.yr), z_min=0.07,  z_max=0.9, source=\"Perrett2012\", note=\"z_max based on DES detection limit for SNIa\"),\n",
    "    dict(setting=\"Moeller2024 snia\",   nobs=2298,  survey=\"DES-SN (approx)\",    rate=2.43e-5  * cosmo.h**3/(u.Mpc**3 * u.yr), z_min=0.07,  z_max=1.14, source=\"Frohmaier2019\",         note=\"fov_eff in degrees => approximation used; multiplied by np.sqrt(10) because 10 fields in total\"),\n",
    "    dict(setting=\"Pessi2025 sncc\",      nobs=173,   survey=\"ASSA-SN\",            rate=7.0e-5   * cosmo.h**3/(u.Mpc**3 * u.yr), z_min=0.001, z_max=0.02, source=\"Pessi2025\",             note=\"used ceil(median redshift) as z_max\"),\n",
    "    dict(setting=\"Pessi2025 snibc\",     nobs=2,     survey=\"ASSA-SN\",            rate=0.033e-5 * cosmo.h**3/(u.Mpc**3 * u.yr), z_min=0.001, z_max=0.02, source=\"Pessi2025\",             note=\"used ceil(median redshift) as z_max\"),\n",
    "    dict(setting=\"Pessi2025 snii\",      nobs=104,   survey=\"ASSA-SN\",            rate=4.3e-5   * cosmo.h**3/(u.Mpc**3 * u.yr), z_min=0.001, z_max=0.02, source=\"Pessi2025\",             note=\"used ceil(median redshift) as z_max\"),\n",
    "])\n",
    "# print(df_rates)\n",
    "\n",
    "#survey specifications\n",
    "df_surveys = pl.from_dicts([\n",
    "    dict(survey=\"DES-SN\",           source=\"Smith2020\", fov_eff=23.0 * u.deg**2,        dt=(5.5/12 * 5*u.yr)),\n",
    "    dict(survey=\"DES-SN (approx)\",  source=\"Smith2020\", fov_eff=np.sqrt(10)*2.7 * u.deg,  dt=(5.5/12 * 5*u.yr)),\n",
    "    dict(survey=\"ASSA-SN\",          source=\"Pessi2025\", fov_eff=(4*np.pi * (180/np.pi)**2 * u.deg**2 *1/(1-np.sin(15*np.pi/180))), dt=((2018-2014.5) *u.yr)),\n",
    "])\n",
    "# print(df_surveys)\n",
    "\n",
    "df = df_rates.join(df_surveys, on=\"survey\", how=\"inner\", suffix=\"_survey\")\n",
    "df"
   ]
  },
  {
   "cell_type": "code",
   "execution_count": 6,
   "id": "29d861d6",
   "metadata": {},
   "outputs": [
    {
     "name": "stderr",
     "output_type": "stream",
     "text": [
      "using approximation because `fov_eff.unit` is `u.deg`. If you want no approximation provide `fov_eff` as an area\n"
     ]
    },
    {
     "data": {
      "text/html": [
       "<div><style>\n",
       ".dataframe > thead > tr,\n",
       ".dataframe > tbody > tr {\n",
       "  text-align: right;\n",
       "  white-space: pre-wrap;\n",
       "}\n",
       "</style>\n",
       "<small>shape: (9, 3)</small><table border=\"1\" class=\"dataframe\"><thead><tr><th>setting</th><th>nobs</th><th>npred</th></tr><tr><td>str</td><td>i64</td><td>object</td></tr></thead><tbody><tr><td>&quot;Grayling2023 sncc&quot;</td><td>119</td><td>130.77228105267966</td></tr><tr><td>&quot;Grayling2023 snibc&quot;</td><td>50</td><td>23.65110111609893</td></tr><tr><td>&quot;Grayling2023 snii&quot;</td><td>69</td><td>80.33154407521752</td></tr><tr><td>&quot;Moeller2024 snia&quot;</td><td>2298</td><td>2134.3169190474623</td></tr><tr><td>&quot;Moeller2024 snia&quot;</td><td>2298</td><td>2118.1837734605533</td></tr><tr><td>&quot;Moeller2024 snia&quot;</td><td>2298</td><td>1158.3005345701276</td></tr><tr><td>&quot;PESS2025 sncc&quot;</td><td>173</td><td>294.39227878187546</td></tr><tr><td>&quot;PESS2025 snibc&quot;</td><td>2</td><td>1.387849314257413</td></tr><tr><td>&quot;PESS2025 snii&quot;</td><td>104</td><td>180.84097125172354</td></tr></tbody></table></div>"
      ],
      "text/plain": [
       "shape: (9, 3)\n",
       "┌────────────────────┬──────┬────────────────────┐\n",
       "│ setting            ┆ nobs ┆ npred              │\n",
       "│ ---                ┆ ---  ┆ ---                │\n",
       "│ str                ┆ i64  ┆ object             │\n",
       "╞════════════════════╪══════╪════════════════════╡\n",
       "│ Grayling2023 sncc  ┆ 119  ┆ 130.77228105267966 │\n",
       "│ Grayling2023 snibc ┆ 50   ┆ 23.65110111609893  │\n",
       "│ Grayling2023 snii  ┆ 69   ┆ 80.33154407521752  │\n",
       "│ Moeller2024 snia   ┆ 2298 ┆ 2134.3169190474623 │\n",
       "│ Moeller2024 snia   ┆ 2298 ┆ 2118.1837734605533 │\n",
       "│ Moeller2024 snia   ┆ 2298 ┆ 1158.3005345701276 │\n",
       "│ PESS2025 sncc      ┆ 173  ┆ 294.39227878187546 │\n",
       "│ PESS2025 snibc     ┆ 2    ┆ 1.387849314257413  │\n",
       "│ PESS2025 snii      ┆ 104  ┆ 180.84097125172354 │\n",
       "└────────────────────┴──────┴────────────────────┘"
      ]
     },
     "execution_count": 6,
     "metadata": {},
     "output_type": "execute_result"
    }
   ],
   "source": [
    "df_res = []\n",
    "for row in df.iter_rows(named=True):\n",
    "\n",
    "    npred = Rates.number_from_rate(rate=row[\"rate\"], z=row[\"z_max\"], dt=row[\"dt\"], fov_eff=row[\"fov_eff\"], z_min=row[\"z_min\"], cosmo=cosmo)\n",
    "    df_res.append(\n",
    "        dict(setting=row[\"setting\"], nobs=row[\"nobs\"], npred=npred)\n",
    "    )\n",
    "\n",
    "df_res = pl.from_dicts(df_res)\n",
    "df_res"
   ]
  }
 ],
 "metadata": {
  "kernelspec": {
   "display_name": "lustcodesnippets-py",
   "language": "python",
   "name": "python3"
  },
  "language_info": {
   "codemirror_mode": {
    "name": "ipython",
    "version": 3
   },
   "file_extension": ".py",
   "mimetype": "text/x-python",
   "name": "python",
   "nbconvert_exporter": "python",
   "pygments_lexer": "ipython3",
   "version": "3.11.13"
  }
 },
 "nbformat": 4,
 "nbformat_minor": 5
}
