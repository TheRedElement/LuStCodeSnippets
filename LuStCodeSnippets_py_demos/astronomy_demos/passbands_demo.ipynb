{
 "cells": [
  {
   "cell_type": "code",
   "execution_count": 5,
   "id": "2de78e54",
   "metadata": {},
   "outputs": [
    {
     "data": {
      "text/plain": [
       "<module 'LuStCodeSnippets_py.astronomy.passbands' from '/home/lukas/github/SNClassification/code/code_snippets/LuStCodeSnippets_py_demos/astronomy_demos/../../LuStCodeSnippets_py/astronomy/passbands.py'>"
      ]
     },
     "execution_count": 5,
     "metadata": {},
     "output_type": "execute_result"
    }
   ],
   "source": [
    "#%%imports\n",
    "import importlib\n",
    "from IPython.display import display\n",
    "import polars as pl\n",
    "import sys\n",
    "\n",
    "sys.path.append(\"../../\")\n",
    "from LuStCodeSnippets_py.astronomy import passbands\n",
    "\n",
    "importlib.reload(passbands)"
   ]
  },
  {
   "cell_type": "code",
   "execution_count": 7,
   "id": "a7cf0afe",
   "metadata": {},
   "outputs": [
    {
     "data": {
      "text/html": [
       "<div><style>\n",
       ".dataframe > thead > tr,\n",
       ".dataframe > tbody > tr {\n",
       "  text-align: right;\n",
       "  white-space: pre-wrap;\n",
       "}\n",
       "</style>\n",
       "<small>shape: (13, 7)</small><table border=\"1\" class=\"dataframe\"><thead><tr><th>name</th><th>wavelength</th><th>plot_color</th><th>plot_marker</th><th>plot_ls</th><th>mission</th><th>source</th></tr><tr><td>str</td><td>f64</td><td>str</td><td>str</td><td>str</td><td>str</td><td>str</td></tr></thead><tbody><tr><td>&quot;u&quot;</td><td>361.7</td><td>&quot;#0c71ff&quot;</td><td>&quot;o&quot;</td><td>&quot;-&quot;</td><td>&quot;lsst&quot;</td><td>&quot;https://ui.adsabs.harvard.edu/…</td></tr><tr><td>&quot;g&quot;</td><td>482.7</td><td>&quot;#49be61&quot;</td><td>&quot;^&quot;</td><td>&quot;-&quot;</td><td>&quot;lsst&quot;</td><td>&quot;https://ui.adsabs.harvard.edu/…</td></tr><tr><td>&quot;r&quot;</td><td>622.3</td><td>&quot;#c61c00&quot;</td><td>&quot;v&quot;</td><td>&quot;-&quot;</td><td>&quot;lsst&quot;</td><td>&quot;https://ui.adsabs.harvard.edu/…</td></tr><tr><td>&quot;i&quot;</td><td>754.6</td><td>&quot;#ffc200&quot;</td><td>&quot;s&quot;</td><td>&quot;-&quot;</td><td>&quot;lsst&quot;</td><td>&quot;https://ui.adsabs.harvard.edu/…</td></tr><tr><td>&quot;z&quot;</td><td>869.1</td><td>&quot;#f341a2&quot;</td><td>&quot;*&quot;</td><td>&quot;-&quot;</td><td>&quot;lsst&quot;</td><td>&quot;https://ui.adsabs.harvard.edu/…</td></tr><tr><td>&hellip;</td><td>&hellip;</td><td>&hellip;</td><td>&hellip;</td><td>&hellip;</td><td>&hellip;</td><td>&hellip;</td></tr><tr><td>&quot;DES g&quot;</td><td>473.0</td><td>&quot;#49be61&quot;</td><td>&quot;^&quot;</td><td>&quot;-&quot;</td><td>&quot;des&quot;</td><td>&quot;https://noirlab.edu/science/pr…</td></tr><tr><td>&quot;DES r&quot;</td><td>642.0</td><td>&quot;#c61c00&quot;</td><td>&quot;v&quot;</td><td>&quot;-&quot;</td><td>&quot;des&quot;</td><td>&quot;https://noirlab.edu/science/pr…</td></tr><tr><td>&quot;DES i&quot;</td><td>784.0</td><td>&quot;#ffc200&quot;</td><td>&quot;s&quot;</td><td>&quot;-&quot;</td><td>&quot;des&quot;</td><td>&quot;https://noirlab.edu/science/pr…</td></tr><tr><td>&quot;DES z&quot;</td><td>926.0</td><td>&quot;#f341a2&quot;</td><td>&quot;*&quot;</td><td>&quot;-&quot;</td><td>&quot;des&quot;</td><td>&quot;https://noirlab.edu/science/pr…</td></tr><tr><td>&quot;DES Y&quot;</td><td>1009.0</td><td>&quot;#5d0000&quot;</td><td>&quot;p&quot;</td><td>&quot;-&quot;</td><td>&quot;des&quot;</td><td>&quot;https://noirlab.edu/science/pr…</td></tr></tbody></table></div>"
      ],
      "text/plain": [
       "shape: (13, 7)\n",
       "┌───────┬────────────┬────────────┬─────────────┬─────────┬─────────┬──────────────────────────────┐\n",
       "│ name  ┆ wavelength ┆ plot_color ┆ plot_marker ┆ plot_ls ┆ mission ┆ source                       │\n",
       "│ ---   ┆ ---        ┆ ---        ┆ ---         ┆ ---     ┆ ---     ┆ ---                          │\n",
       "│ str   ┆ f64        ┆ str        ┆ str         ┆ str     ┆ str     ┆ str                          │\n",
       "╞═══════╪════════════╪════════════╪═════════════╪═════════╪═════════╪══════════════════════════════╡\n",
       "│ u     ┆ 361.7      ┆ #0c71ff    ┆ o           ┆ -       ┆ lsst    ┆ https://ui.adsabs.harvard.ed │\n",
       "│       ┆            ┆            ┆             ┆         ┆         ┆ u/…                          │\n",
       "│ g     ┆ 482.7      ┆ #49be61    ┆ ^           ┆ -       ┆ lsst    ┆ https://ui.adsabs.harvard.ed │\n",
       "│       ┆            ┆            ┆             ┆         ┆         ┆ u/…                          │\n",
       "│ r     ┆ 622.3      ┆ #c61c00    ┆ v           ┆ -       ┆ lsst    ┆ https://ui.adsabs.harvard.ed │\n",
       "│       ┆            ┆            ┆             ┆         ┆         ┆ u/…                          │\n",
       "│ i     ┆ 754.6      ┆ #ffc200    ┆ s           ┆ -       ┆ lsst    ┆ https://ui.adsabs.harvard.ed │\n",
       "│       ┆            ┆            ┆             ┆         ┆         ┆ u/…                          │\n",
       "│ z     ┆ 869.1      ┆ #f341a2    ┆ *           ┆ -       ┆ lsst    ┆ https://ui.adsabs.harvard.ed │\n",
       "│       ┆            ┆            ┆             ┆         ┆         ┆ u/…                          │\n",
       "│ …     ┆ …          ┆ …          ┆ …           ┆ …       ┆ …       ┆ …                            │\n",
       "│ DES g ┆ 473.0      ┆ #49be61    ┆ ^           ┆ -       ┆ des     ┆ https://noirlab.edu/science/ │\n",
       "│       ┆            ┆            ┆             ┆         ┆         ┆ pr…                          │\n",
       "│ DES r ┆ 642.0      ┆ #c61c00    ┆ v           ┆ -       ┆ des     ┆ https://noirlab.edu/science/ │\n",
       "│       ┆            ┆            ┆             ┆         ┆         ┆ pr…                          │\n",
       "│ DES i ┆ 784.0      ┆ #ffc200    ┆ s           ┆ -       ┆ des     ┆ https://noirlab.edu/science/ │\n",
       "│       ┆            ┆            ┆             ┆         ┆         ┆ pr…                          │\n",
       "│ DES z ┆ 926.0      ┆ #f341a2    ┆ *           ┆ -       ┆ des     ┆ https://noirlab.edu/science/ │\n",
       "│       ┆            ┆            ┆             ┆         ┆         ┆ pr…                          │\n",
       "│ DES Y ┆ 1009.0     ┆ #5d0000    ┆ p           ┆ -       ┆ des     ┆ https://noirlab.edu/science/ │\n",
       "│       ┆            ┆            ┆             ┆         ┆         ┆ pr…                          │\n",
       "└───────┴────────────┴────────────┴─────────────┴─────────┴─────────┴──────────────────────────────┘"
      ]
     },
     "metadata": {},
     "output_type": "display_data"
    },
    {
     "name": "stdout",
     "output_type": "stream",
     "text": [
      "{'u': array([361.7, '#0c71ff', 'o', '-', 'lsst',\n",
      "       'https://ui.adsabs.harvard.edu/abs/2021A%26A...646A.110H/abstract'],\n",
      "      dtype=object), 'g': array([482.7, '#49be61', '^', '-', 'lsst',\n",
      "       'https://ui.adsabs.harvard.edu/abs/2021A%26A...646A.110H/abstract'],\n",
      "      dtype=object), 'r': array([622.3, '#c61c00', 'v', '-', 'lsst',\n",
      "       'https://ui.adsabs.harvard.edu/abs/2021A%26A...646A.110H/abstract'],\n",
      "      dtype=object), 'i': array([754.6, '#ffc200', 's', '-', 'lsst',\n",
      "       'https://ui.adsabs.harvard.edu/abs/2021A%26A...646A.110H/abstract'],\n",
      "      dtype=object), 'z': array([869.1, '#f341a2', '*', '-', 'lsst',\n",
      "       'https://ui.adsabs.harvard.edu/abs/2021A%26A...646A.110H/abstract'],\n",
      "      dtype=object), 'Y': array([971.2, '#5d0000', 'p', '-', 'lsst',\n",
      "       'https://ui.adsabs.harvard.edu/abs/2021A%26A...646A.110H/abstract'],\n",
      "      dtype=object), 'V': array([550.0, 'tab:green', 'p', '-', 'ogle', ''], dtype=object), 'I': array([810.0, 'tab:red', 'p', '-', 'ogle', ''], dtype=object), 'DES g': array([473.0, '#49be61', '^', '-', 'des',\n",
      "       'https://noirlab.edu/science/programs/ctio/filters/Dark-Energy-Camera'],\n",
      "      dtype=object), 'DES r': array([642.0, '#c61c00', 'v', '-', 'des',\n",
      "       'https://noirlab.edu/science/programs/ctio/filters/Dark-Energy-Camera'],\n",
      "      dtype=object), 'DES i': array([784.0, '#ffc200', 's', '-', 'des',\n",
      "       'https://noirlab.edu/science/programs/ctio/filters/Dark-Energy-Camera'],\n",
      "      dtype=object), 'DES z': array([926.0, '#f341a2', '*', '-', 'des',\n",
      "       'https://noirlab.edu/science/programs/ctio/filters/Dark-Energy-Camera'],\n",
      "      dtype=object), 'DES Y': array([1009.0, '#5d0000', 'p', '-', 'des',\n",
      "       'https://noirlab.edu/science/programs/ctio/filters/Dark-Energy-Camera'],\n",
      "      dtype=object)}\n"
     ]
    }
   ],
   "source": [
    "#%%loading passband info\n",
    "df = passbands.get_passband_specs()\n",
    "display(df)\n",
    "\n",
    "#%%converting to encoding dict\n",
    "print(dict(zip(df[\"name\"], df.select(pl.exclude(\"name\")).to_numpy())))"
   ]
  }
 ],
 "metadata": {
  "kernelspec": {
   "display_name": "venv",
   "language": "python",
   "name": "python3"
  },
  "language_info": {
   "codemirror_mode": {
    "name": "ipython",
    "version": 3
   },
   "file_extension": ".py",
   "mimetype": "text/x-python",
   "name": "python",
   "nbconvert_exporter": "python",
   "pygments_lexer": "ipython3",
   "version": "3.13.3"
  }
 },
 "nbformat": 4,
 "nbformat_minor": 5
}
