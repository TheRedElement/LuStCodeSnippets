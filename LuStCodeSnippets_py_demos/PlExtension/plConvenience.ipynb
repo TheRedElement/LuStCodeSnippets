{
 "cells": [
  {
   "cell_type": "code",
   "execution_count": 1,
   "id": "6f7528c1",
   "metadata": {},
   "outputs": [
    {
     "data": {
      "text/plain": [
       "<module 'LuStCodeSnippets_py.PlExtension.plConvenience' from '/home/lukas/github/LuStCodeSnippets/LuStCodeSnippets_py/PlExtension/plConvenience.py'>"
      ]
     },
     "execution_count": 1,
     "metadata": {},
     "output_type": "execute_result"
    }
   ],
   "source": [
    "#%%imports\n",
    "import importlib\n",
    "import numpy as np\n",
    "import polars as pl\n",
    "\n",
    "from LuStCodeSnippets_py.PlExtension import plConvenience\n",
    "importlib.reload(plConvenience)"
   ]
  },
  {
   "cell_type": "code",
   "execution_count": 2,
   "id": "3a4b79b8",
   "metadata": {},
   "outputs": [],
   "source": [
    "np.random.seed(0)\n",
    "\n",
    "nrows = 40\n",
    "df = pl.DataFrame(\n",
    "    data=[\n",
    "        np.random.choice(range(1,5), nrows),\n",
    "        np.random.choice(range(1,3), nrows),\n",
    "        np.random.randn(nrows),\n",
    "        np.random.choice(list(\"abcdefghijklmnopqrstuvwxyz\"), nrows),\n",
    "    ]\n",
    ")\n"
   ]
  },
  {
   "cell_type": "code",
   "execution_count": 3,
   "id": "1e7cf22b",
   "metadata": {},
   "outputs": [
    {
     "data": {
      "text/html": [
       "<div><style>\n",
       ".dataframe > thead > tr,\n",
       ".dataframe > tbody > tr {\n",
       "  text-align: right;\n",
       "  white-space: pre-wrap;\n",
       "}\n",
       "</style>\n",
       "<small>shape: (4, 2)</small><table border=\"1\" class=\"dataframe\"><thead><tr><th>column_0</th><th>count</th></tr><tr><td>i64</td><td>u32</td></tr></thead><tbody><tr><td>3</td><td>6</td></tr><tr><td>2</td><td>10</td></tr><tr><td>1</td><td>11</td></tr><tr><td>4</td><td>13</td></tr></tbody></table></div>"
      ],
      "text/plain": [
       "shape: (4, 2)\n",
       "┌──────────┬───────┐\n",
       "│ column_0 ┆ count │\n",
       "│ ---      ┆ ---   │\n",
       "│ i64      ┆ u32   │\n",
       "╞══════════╪═══════╡\n",
       "│ 3        ┆ 6     │\n",
       "│ 2        ┆ 10    │\n",
       "│ 1        ┆ 11    │\n",
       "│ 4        ┆ 13    │\n",
       "└──────────┴───────┘"
      ]
     },
     "metadata": {},
     "output_type": "display_data"
    },
    {
     "data": {
      "text/html": [
       "<div><style>\n",
       ".dataframe > thead > tr,\n",
       ".dataframe > tbody > tr {\n",
       "  text-align: right;\n",
       "  white-space: pre-wrap;\n",
       "}\n",
       "</style>\n",
       "<small>shape: (8, 3)</small><table border=\"1\" class=\"dataframe\"><thead><tr><th>column_0</th><th>column_1</th><th>count</th></tr><tr><td>i64</td><td>i64</td><td>f64</td></tr></thead><tbody><tr><td>1</td><td>1</td><td>0.666667</td></tr><tr><td>1</td><td>2</td><td>0.555556</td></tr><tr><td>2</td><td>1</td><td>0.777778</td></tr><tr><td>2</td><td>2</td><td>0.333333</td></tr><tr><td>3</td><td>1</td><td>0.222222</td></tr><tr><td>3</td><td>2</td><td>0.444444</td></tr><tr><td>4</td><td>1</td><td>0.444444</td></tr><tr><td>4</td><td>2</td><td>1.0</td></tr></tbody></table></div>"
      ],
      "text/plain": [
       "shape: (8, 3)\n",
       "┌──────────┬──────────┬──────────┐\n",
       "│ column_0 ┆ column_1 ┆ count    │\n",
       "│ ---      ┆ ---      ┆ ---      │\n",
       "│ i64      ┆ i64      ┆ f64      │\n",
       "╞══════════╪══════════╪══════════╡\n",
       "│ 1        ┆ 1        ┆ 0.666667 │\n",
       "│ 1        ┆ 2        ┆ 0.555556 │\n",
       "│ 2        ┆ 1        ┆ 0.777778 │\n",
       "│ 2        ┆ 2        ┆ 0.333333 │\n",
       "│ 3        ┆ 1        ┆ 0.222222 │\n",
       "│ 3        ┆ 2        ┆ 0.444444 │\n",
       "│ 4        ┆ 1        ┆ 0.444444 │\n",
       "│ 4        ┆ 2        ┆ 1.0      │\n",
       "└──────────┴──────────┴──────────┘"
      ]
     },
     "metadata": {},
     "output_type": "display_data"
    },
    {
     "data": {
      "text/html": [
       "<div><style>\n",
       ".dataframe > thead > tr,\n",
       ".dataframe > tbody > tr {\n",
       "  text-align: right;\n",
       "  white-space: pre-wrap;\n",
       "}\n",
       "</style>\n",
       "<small>shape: (8, 3)</small><table border=\"1\" class=\"dataframe\"><thead><tr><th>column_0</th><th>column_1</th><th>count</th></tr><tr><td>i64</td><td>i64</td><td>f64</td></tr></thead><tbody><tr><td>3</td><td>1</td><td>0.05</td></tr><tr><td>2</td><td>2</td><td>0.075</td></tr><tr><td>4</td><td>1</td><td>0.1</td></tr><tr><td>3</td><td>2</td><td>0.1</td></tr><tr><td>1</td><td>2</td><td>0.125</td></tr><tr><td>1</td><td>1</td><td>0.15</td></tr><tr><td>2</td><td>1</td><td>0.175</td></tr><tr><td>4</td><td>2</td><td>0.225</td></tr></tbody></table></div>"
      ],
      "text/plain": [
       "shape: (8, 3)\n",
       "┌──────────┬──────────┬───────┐\n",
       "│ column_0 ┆ column_1 ┆ count │\n",
       "│ ---      ┆ ---      ┆ ---   │\n",
       "│ i64      ┆ i64      ┆ f64   │\n",
       "╞══════════╪══════════╪═══════╡\n",
       "│ 3        ┆ 1        ┆ 0.05  │\n",
       "│ 2        ┆ 2        ┆ 0.075 │\n",
       "│ 4        ┆ 1        ┆ 0.1   │\n",
       "│ 3        ┆ 2        ┆ 0.1   │\n",
       "│ 1        ┆ 2        ┆ 0.125 │\n",
       "│ 1        ┆ 1        ┆ 0.15  │\n",
       "│ 2        ┆ 1        ┆ 0.175 │\n",
       "│ 4        ┆ 2        ┆ 0.225 │\n",
       "└──────────┴──────────┴───────┘"
      ]
     },
     "metadata": {},
     "output_type": "display_data"
    }
   ],
   "source": [
    "display(plConvenience.value_counts(df, \"column_0\", normalize=None))\n",
    "display(plConvenience.value_counts(df, [\"column_0\", \"column_1\"], normalize=\"frequency\", sort=False))\n",
    "display(plConvenience.value_counts(df, [\"column_0\", \"column_1\"], normalize=\"pdf\", sort=True))"
   ]
  },
  {
   "cell_type": "code",
   "execution_count": null,
   "id": "b72b000c",
   "metadata": {},
   "outputs": [],
   "source": []
  }
 ],
 "metadata": {
  "kernelspec": {
   "display_name": "venv",
   "language": "python",
   "name": "python3"
  },
  "language_info": {
   "codemirror_mode": {
    "name": "ipython",
    "version": 3
   },
   "file_extension": ".py",
   "mimetype": "text/x-python",
   "name": "python",
   "nbconvert_exporter": "python",
   "pygments_lexer": "ipython3",
   "version": "3.13.3"
  }
 },
 "nbformat": 4,
 "nbformat_minor": 5
}
